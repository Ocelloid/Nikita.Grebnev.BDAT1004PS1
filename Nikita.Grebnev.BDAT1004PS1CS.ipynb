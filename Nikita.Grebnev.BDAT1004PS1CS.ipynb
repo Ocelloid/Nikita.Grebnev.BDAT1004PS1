{
 "cells": [
  {
   "cell_type": "code",
   "execution_count": 21,
   "metadata": {
    "scrolled": true
   },
   "outputs": [
    {
     "name": "stdout",
     "output_type": "stream",
     "text": [
      "Int32\n",
      "Double\n",
      "Boolean\n",
      "Char\n",
      "Int32\n",
      "Int32\n",
      "Int32\n",
      "Int32\n",
      "That one is a 5 with a commented 2\n",
      "That one is an array, but Jupyter is being weird and doesn't let me print its type\n",
      "Would that be undefined?\n",
      "Double\n"
     ]
    }
   ],
   "source": [
    "// Question 1\n",
    "Console.WriteLine((5).GetType().Name);\n",
    "Console.WriteLine((5.0).GetType().Name);\n",
    "Console.WriteLine((5>1).GetType().Name);\n",
    "Console.WriteLine(('5').GetType().Name);\n",
    "Console.WriteLine((5*2).GetType().Name);\n",
    "Console.WriteLine(('5'*2).GetType().Name);\n",
    "Console.WriteLine(('5'+'2').GetType().Name);\n",
    "Console.WriteLine((5/2).GetType().Name);\n",
    "Console.WriteLine(\"That one is a 5 with a commented 2\");\n",
    "Console.WriteLine(\"That one is an array, but Jupyter is being weird and doesn't let me print its type\");\n",
    "Console.WriteLine(\"Would that be undefined?\");\n",
    "Console.WriteLine((Math.PI).GetType().Name);"
   ]
  },
  {
   "cell_type": "code",
   "execution_count": 38,
   "metadata": {},
   "outputs": [
    {
     "name": "stdout",
     "output_type": "stream",
     "text": [
      "34\n",
      "True\n",
      "Bababadalgharaghtakamminarronnkonn\n",
      "Bartok\n"
     ]
    }
   ],
   "source": [
    "//Question 2.a Counting characters in the string only if those are letters.\n",
    "string a = \"Supercalifragilisticexpialidocious\";\n",
    "Console.WriteLine(a.Count(char.IsLetter));\n",
    "\n",
    "//Question 2.b That one's easier, have a handy function for it.\n",
    "Console.WriteLine(a.Contains(\"ice\"));\n",
    "\n",
    "//Question 2.c Am I overthinking it?\n",
    "string[] lines = {\"Supercalifragilisticexpialidocious\", \"Honorificabilitudinitatibus\", \"Bababadalgharaghtakamminarronnkonn\"};\n",
    "string[] byLength = lines.OrderBy(x => x.Length).ToArray();\n",
    "Console.WriteLine(byLength.Last());\n",
    "\n",
    "//Question 2.d Pretty much the same thing.\n",
    "string[] composers = {\"Berlioz\", \"Borodin\", \"Brian\", \"Bartok\", \"Bellini\", \"Buxtehude\", \"Bernstein\"};\n",
    "string[] alphabetical = composers.OrderBy(x => x.ToLower()).ToArray();\n",
    "Console.WriteLine(alphabetical.First());"
   ]
  },
  {
   "cell_type": "code",
   "execution_count": 51,
   "metadata": {},
   "outputs": [
    {
     "name": "stdout",
     "output_type": "stream",
     "text": [
      "1,7320508075688772\r\n"
     ]
    }
   ],
   "source": [
    "//Question 3\n",
    "public double triangleArea(double a, double b, double c) {\n",
    "    double s = (a + b + c)/2;\n",
    "    return Math.Sqrt(s*(s-a)*(s-b)*(s-c));\n",
    "}\n",
    "Console.WriteLine(triangleArea(2,2,2));"
   ]
  },
  {
   "cell_type": "code",
   "execution_count": 50,
   "metadata": {},
   "outputs": [
    {
     "name": "stdout",
     "output_type": "stream",
     "text": [
      "The Even elements are:\n",
      "42 56 32 \n",
      "The Odd elements are:\n",
      "25 47 \n"
     ]
    }
   ],
   "source": [
    "//Question 4\n",
    "public void separateEvenAndOdd(int[] numbers) {\n",
    "    string even = \"\";\n",
    "    string odd = \"\";\n",
    "    for (int i = 0; i < numbers.Length; i++) {\n",
    "        if(numbers[i]%2 == 0) even += numbers[i] + \" \";\n",
    "        else odd += numbers[i] + \" \";\n",
    "    }\n",
    "    Console.WriteLine(\"The Even elements are:\");\n",
    "    Console.WriteLine(even);\n",
    "    Console.WriteLine(\"The Odd elements are:\");\n",
    "    Console.WriteLine(odd);\n",
    "}\n",
    "int[] tryNum = {25, 47, 42, 56, 32};\n",
    "separateEvenAndOdd(tryNum);"
   ]
  },
  {
   "cell_type": "code",
   "execution_count": 56,
   "metadata": {},
   "outputs": [
    {
     "name": "stdout",
     "output_type": "stream",
     "text": [
      "True\n",
      "False\n",
      "False\n",
      "True\n"
     ]
    }
   ],
   "source": [
    "//Question 5.a\n",
    "public bool inside(double x, double y, double x1, double y1, double x2, double y2) {\n",
    "    return ((x >= x1) && (x <= x2) && (y >= y1) && (y <= y2));\n",
    "}\n",
    "Console.WriteLine(inside(1,1,0,0,2,3));\n",
    "Console.WriteLine(inside(-1,-1,0,0,2,3));\n",
    "\n",
    "//Question 5.b\n",
    "Console.WriteLine(inside(1,1,0.3,0.5,1.1,0.7));\n",
    "Console.WriteLine(inside(1,1,0.5,0.2,1.1,2));"
   ]
  },
  {
   "cell_type": "code",
   "execution_count": null,
   "metadata": {},
   "outputs": [],
   "source": []
  }
 ],
 "metadata": {
  "kernelspec": {
   "display_name": ".NET (C#)",
   "language": "C#",
   "name": ".net-csharp"
  },
  "language_info": {
   "file_extension": ".cs",
   "mimetype": "text/x-csharp",
   "name": "C#",
   "pygments_lexer": "csharp",
   "version": "8.0"
  }
 },
 "nbformat": 4,
 "nbformat_minor": 4
}
