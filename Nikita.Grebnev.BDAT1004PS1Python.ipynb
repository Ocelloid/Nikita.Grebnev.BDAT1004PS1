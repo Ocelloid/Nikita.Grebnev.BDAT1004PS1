{
 "cells": [
  {
   "cell_type": "code",
   "execution_count": 16,
   "metadata": {},
   "outputs": [
    {
     "data": {
      "text/plain": [
       "'appyhay'"
      ]
     },
     "execution_count": 16,
     "metadata": {},
     "output_type": "execute_result"
    }
   ],
   "source": [
    "#Question 6\n",
    "def pig(word):\n",
    "    s = 'aeiou'\n",
    "    if s.find(word[0])==-1: return word[1:] + word[0] + 'ay'\n",
    "    else: return word + 'way'\n",
    "\n",
    "pig('happy')"
   ]
  },
  {
   "cell_type": "code",
   "execution_count": 49,
   "metadata": {},
   "outputs": [
    {
     "name": "stdout",
     "output_type": "stream",
     "text": [
      "There are 15 patients of blood type A.\n",
      "There is one patient of blood type B.\n",
      "There are 13 patients of blood type AB.\n",
      "There are 15 patients of blood type O.\n",
      "There are no patients of blood type OO.\n"
     ]
    }
   ],
   "source": [
    "#Question 7\n",
    "\n",
    "def bldcount(filename):\n",
    "    file = open(filename, \"r\")\n",
    "    stringFromFile = file.read()\n",
    "    patients = stringFromFile.split(' ')\n",
    "    types = ['A', 'B', 'AB', 'O', 'OO']\n",
    "    for x in types:\n",
    "        occurences = patients.count(x)\n",
    "        c = str(occurences)\n",
    "        p = \"patient\"\n",
    "        v = \"are \"\n",
    "        if occurences == 0: \n",
    "            c = 'no'      \n",
    "            p += 's'\n",
    "        if occurences == 1: \n",
    "            c = 'one'\n",
    "            v = 'is '\n",
    "        if occurences > 1:        \n",
    "            p += 's'\n",
    "        c+= \" \"\n",
    "        print(\"There \" + v + c + p + \" of blood type \" + x + \".\")\n",
    "        \n",
    "bldcount(\"bloodtype.txt\")"
   ]
  },
  {
   "cell_type": "code",
   "execution_count": 83,
   "metadata": {},
   "outputs": [
    {
     "name": "stdout",
     "output_type": "stream",
     "text": [
      "102.37414\n",
      "3\n"
     ]
    }
   ],
   "source": [
    "#Question 8\n",
    "def curconv(cur, amount):\n",
    "    file = open(\"currencies.txt\", \"r\")\n",
    "    myDict = {}\n",
    "    indices = \"\"\n",
    "    for line in file:\n",
    "        y = line.split()\n",
    "        myDict[y[0]] = y[1]\n",
    "        indices += y[0] + ' '\n",
    "    if cur not in indices: \n",
    "        print(\"Currency not found\")\n",
    "    else:\n",
    "        print(float(myDict[cur]) * amount)    \n",
    "\n",
    "curconv('CHF', 100)"
   ]
  },
  {
   "cell_type": "code",
   "execution_count": 88,
   "metadata": {},
   "outputs": [],
   "source": [
    "#Question 9\n",
    "#1) unsupported operand type\n",
    "#2) index out of range\n",
    "#3) domain error\n",
    "#4) name not defined\n",
    "#5) no such file or directory"
   ]
  },
  {
   "cell_type": "code",
   "execution_count": 90,
   "metadata": {},
   "outputs": [
    {
     "name": "stdout",
     "output_type": "stream",
     "text": [
      "['1', '1', '1', '3', '5', '1', '1', '2', '1', '0', '1', '0', '1', '2', '4', '0', '1', '2', '0', '2', '1', '0', '1', '1', '0', '0', '']\n",
      "['1', '0', '0', '0', '1', '0', '0', '0', '0', '0', '0', '1', '0', '0', '0', '2', '0', '0', '0', '0', '0', '0', '0', '0', '0', '0', '']\n"
     ]
    }
   ],
   "source": [
    "#Question 10\n",
    "def frequencies(line):\n",
    "    letters = 'abcdefghijklmnopqrstuvwxyz'\n",
    "    res = \"\"\n",
    "    for letter in letters:\n",
    "        res += str(line.count(letter)) + ','\n",
    "    print(res.split(','))\n",
    "    \n",
    "frequencies('The quick red fox got bored and went home.')\n",
    "frequencies('apple')"
   ]
  },
  {
   "cell_type": "code",
   "execution_count": null,
   "metadata": {},
   "outputs": [],
   "source": []
  }
 ],
 "metadata": {
  "kernelspec": {
   "display_name": "Python 3",
   "language": "python",
   "name": "python3"
  },
  "language_info": {
   "codemirror_mode": {
    "name": "ipython",
    "version": 3
   },
   "file_extension": ".py",
   "mimetype": "text/x-python",
   "name": "python",
   "nbconvert_exporter": "python",
   "pygments_lexer": "ipython3",
   "version": "3.8.5"
  }
 },
 "nbformat": 4,
 "nbformat_minor": 4
}
